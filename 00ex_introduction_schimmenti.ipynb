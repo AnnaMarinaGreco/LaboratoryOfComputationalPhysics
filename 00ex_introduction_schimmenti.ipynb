{
 "cells": [
  {
   "cell_type": "markdown",
   "metadata": {},
   "source": [
    "Exercises 00ex_introduction.ipynb"
   ]
  },
  {
   "cell_type": "code",
   "execution_count": 6,
   "metadata": {},
   "outputs": [
    {
     "name": "stdout",
     "output_type": "stream",
     "text": [
      "[1, 2, 'Mickey', 4, 'Mouse', 'Mickey', 7, 8, 'Mickey', 'Mouse', 11, 'Mickey', 13, 14, 'MickeyMouse', 16, 17, 'Mickey', 19, 'Mouse', 'Mickey', 22, 23, 'Mickey', 'Mouse', 26, 'Mickey', 28, 29, 'MickeyMouse', 31, 32, 'Mickey', 34, 'Mouse', 'Mickey', 37, 38, 'Mickey', 'Mouse', 41, 'Mickey', 43, 44, 'MickeyMouse', 46, 47, 'Mickey', 49, 'Mouse', 'Mickey', 52, 53, 'Mickey', 'Mouse', 56, 'Mickey', 58, 59, 'MickeyMouse', 61, 62, 'Mickey', 64, 'Mouse', 'Mickey', 67, 68, 'Mickey', 'Mouse', 71, 'Mickey', 73, 74, 'MickeyMouse', 76, 77, 'Mickey', 79, 'Mouse', 'Mickey', 82, 83, 'Mickey', 'Mouse', 86, 'Mickey', 88, 89, 'MickeyMouse', 91, 92, 'Mickey', 94, 'Mouse', 'Mickey', 97, 98, 'Mickey', 'Mouse']\n",
      "Mickey is leaving for Donald...\n",
      "[1, 2, 'Donald', 4, 'Duck', 'Donald', 7, 8, 'Donald', 'Duck', 11, 'Donald', 13, 14, 'DonaldDuck', 16, 17, 'Donald', 19, 'Duck', 'Donald', 22, 23, 'Donald', 'Duck', 26, 'Donald', 28, 29, 'DonaldDuck', 31, 32, 'Donald', 34, 'Duck', 'Donald', 37, 38, 'Donald', 'Duck', 41, 'Donald', 43, 44, 'DonaldDuck', 46, 47, 'Donald', 49, 'Duck', 'Donald', 52, 53, 'Donald', 'Duck', 56, 'Donald', 58, 59, 'DonaldDuck', 61, 62, 'Donald', 64, 'Duck', 'Donald', 67, 68, 'Donald', 'Duck', 71, 'Donald', 73, 74, 'DonaldDuck', 76, 77, 'Donald', 79, 'Duck', 'Donald', 82, 83, 'Donald', 'Duck', 86, 'Donald', 88, 89, 'DonaldDuck', 91, 92, 'Donald', 94, 'Duck', 'Donald', 97, 98, 'Donald', 'Duck']\n"
     ]
    }
   ],
   "source": [
    "#exercise 1\n",
    "mylist = []\n",
    "for i in range(1,101):\n",
    "    if i % 15 == 0:\n",
    "        #print(\"MickeyMouse\")\n",
    "        mylist.append(\"MickeyMouse\")\n",
    "    elif i %5== 0:\n",
    "        #print(\"Mouse\")\n",
    "        mylist.append(\"Mouse\")\n",
    "    elif i % 3 == 0:\n",
    "        #print(\"Mickey\")\n",
    "        mylist.append(\"Mickey\")\n",
    "\n",
    "    else:\n",
    "        #print(i)\n",
    "        mylist.append(i)\n",
    "print(mylist)\n",
    "print(\"Mickey is leaving for Donald...\")\n",
    "mylist = [\"Donald\" if x==\"Mickey\" else \"Duck\" if x==\"Mouse\" else \"DonaldDuck\" if x==\"MickeyMouse\" else x for x in mylist]\n",
    "\n",
    "print(mylist)"
   ]
  },
  {
   "cell_type": "code",
   "execution_count": 18,
   "metadata": {},
   "outputs": [
    {
     "name": "stdout",
     "output_type": "stream",
     "text": [
      "x= giggino di maio\n",
      "y= salvino\n",
      "Swapping...\n",
      "x= salvino\n",
      "y= giggino di maio\n"
     ]
    }
   ],
   "source": [
    "#exercise 2\n",
    "import numpy as np\n",
    "\n",
    "def swap(x,y):\n",
    "    x,y=y,x\n",
    "    return x,y\n",
    "\n",
    "def swaptemp(x,y):\n",
    "    z = x\n",
    "    x = y\n",
    "    y = z\n",
    "\n",
    "x = \"giggino di maio\"\n",
    "y = \"salvino\"\n",
    "\n",
    "print(\"x=\",x)\n",
    "print(\"y=\",y)\n",
    "\n",
    "print(\"Swapping...\")\n",
    "(x,y)=swap(x,y)\n",
    "print(\"x=\",x)\n",
    "print(\"y=\",y)"
   ]
  },
  {
   "cell_type": "code",
   "execution_count": 19,
   "metadata": {},
   "outputs": [
    {
     "name": "stdout",
     "output_type": "stream",
     "text": [
      "5.0990195135927845\n"
     ]
    }
   ],
   "source": [
    "#exercise 3\n",
    "import math\n",
    "\n",
    "def distance(u,v):\n",
    "    try:\n",
    "        dist = 0;\n",
    "        for i in range(0,len(u)):\n",
    "            dx = u[i]-v[i]\n",
    "            dist += dx*dx\n",
    "        return math.sqrt(dist)\n",
    "    except:\n",
    "        print(\"Error\")\n",
    "        return 0\n",
    "    \n",
    "print(distance((2,-1),(3,4)))"
   ]
  },
  {
   "cell_type": "code",
   "execution_count": 23,
   "metadata": {},
   "outputs": [
    {
     "name": "stdout",
     "output_type": "stream",
     "text": [
      "{'w': 2, 'r': 17, 'i': 14, 't': 19, 'e': 22, ' ': 41, 'a': 7, 'p': 8, 'o': 13, 'g': 1, 'm': 12, 'h': 9, 'n': 10, 's': 9, 'u': 9, 'b': 5, 'f': 10, '1': 2, '0': 2, '.': 2, 'l': 6, 'c': 3, 'k': 2, 'y': 2, 'd': 3, 'v': 2}\n"
     ]
    }
   ],
   "source": [
    "#exercise 4\n",
    "s=\"Write a program that prints the numbers from 1 to 100. \\\n",
    "But for multiples of three print Mickey instead of the number and for the multiples of five print Mouse. \\\n",
    "For numbers which are multiples of both three and five print MickeyMouse\"\n",
    "\n",
    "lows=s.lower()\n",
    "ldict = {}\n",
    "for c in lows:\n",
    "    if c in ldict:\n",
    "        ldict[c]=ldict[c]+1\n",
    "    else:\n",
    "        ldict[c]=1\n",
    "print(ldict)\n"
   ]
  },
  {
   "cell_type": "code",
   "execution_count": 38,
   "metadata": {},
   "outputs": [
    {
     "name": "stdout",
     "output_type": "stream",
     "text": [
      "UN1QU3 NUMB3RS: 37\n"
     ]
    }
   ],
   "source": [
    "#exercise 5\n",
    "l = [36, 45, 58, 3, 74, 96, 64, 45, 31, 10, 24, 19, 33, 86, 99, 18, 63, 70, 85,\n",
    " 85, 63, 47, 56, 42, 70, 84, 88, 55, 20, 54, 8, 56, 51, 79, 81, 57, 37, 91,\n",
    " 1, 84, 84, 36, 66, 9, 89, 50, 42, 91, 50, 95, 90, 98, 39, 16, 82, 31, 92, 41,\n",
    " 45, 30, 66, 70, 34, 85, 94, 5, 3, 36, 72, 91, 84, 34, 87, 75, 53, 51, 20, 89, 51, 20]\n",
    "\n",
    "ldict = {}\n",
    "for c in l:\n",
    "    if c in ldict:\n",
    "        ldict[c]=ldict[c]+1\n",
    "    else:\n",
    "        ldict[c]=1\n",
    "\n",
    "uniques = [x for x in ldict if ldict[x]==1]\n",
    "print(\"UN1QU3 NUMB3RS:\", len(uniques))"
   ]
  },
  {
   "cell_type": "code",
   "execution_count": 40,
   "metadata": {},
   "outputs": [
    {
     "name": "stdout",
     "output_type": "stream",
     "text": [
      "x= 0.6521118860749331\n",
      "x^6= 0.07690112569042991\n"
     ]
    }
   ],
   "source": [
    "#exercise 6\n",
    "import numpy as np\n",
    "def square(x):\n",
    "    try:\n",
    "        return x**2\n",
    "    except:\n",
    "        print(\"Error\")\n",
    "        return 0\n",
    "\n",
    "def cubic(x):\n",
    "    try:\n",
    "        return x**3\n",
    "    except:\n",
    "        print(\"Error\")\n",
    "        return 0\n",
    "x = 10*np.random.rand();\n",
    "print(\"x=\", x)\n",
    "print(\"x^6=\", cubic(square(x)))"
   ]
  },
  {
   "cell_type": "code",
   "execution_count": 41,
   "metadata": {},
   "outputs": [
    {
     "name": "stdout",
     "output_type": "stream",
     "text": [
      "[0, 1, 8, 27, 64, 125, 216, 343, 512, 729, 1000]\n",
      "[0, 1, 8, 27, 64, 125, 216, 343, 512, 729, 1000]\n"
     ]
    }
   ],
   "source": [
    "#exercise 7\n",
    "#using for\n",
    "cubesf = []\n",
    "for i in range(0,11):\n",
    "    cubesf.append(i**3)\n",
    "\n",
    "print(cubesf)\n",
    "    \n",
    "#using list comp\n",
    "cubesl = [x**3 for x in range(0,11)]\n",
    "\n",
    "print(cubesl)\n"
   ]
  },
  {
   "cell_type": "code",
   "execution_count": 22,
   "metadata": {},
   "outputs": [
    {
     "name": "stdout",
     "output_type": "stream",
     "text": [
      "[(3, 4, 5), (4, 3, 5), (5, 12, 13), (6, 8, 10), (7, 24, 25), (8, 6, 10), (8, 15, 17), (9, 12, 15), (9, 40, 41), (10, 24, 26), (11, 60, 61), (12, 5, 13), (12, 9, 15), (12, 16, 20), (12, 35, 37), (13, 84, 85), (14, 48, 50), (15, 8, 17), (15, 20, 25), (15, 36, 39), (16, 12, 20), (16, 30, 34), (16, 63, 65), (18, 24, 30), (18, 80, 82), (20, 15, 25), (20, 21, 29), (20, 48, 52), (21, 20, 29), (21, 28, 35), (21, 72, 75), (24, 7, 25), (24, 10, 26), (24, 18, 30), (24, 32, 40), (24, 45, 51), (24, 70, 74), (25, 60, 65), (27, 36, 45), (28, 21, 35), (28, 45, 53), (30, 16, 34), (30, 40, 50), (30, 72, 78), (32, 24, 40), (32, 60, 68), (33, 44, 55), (33, 56, 65), (35, 12, 37), (35, 84, 91), (36, 15, 39), (36, 27, 45), (36, 48, 60), (36, 77, 85), (39, 52, 65), (39, 80, 89), (40, 9, 41), (40, 30, 50), (40, 42, 58), (40, 75, 85), (42, 40, 58), (42, 56, 70), (44, 33, 55), (45, 24, 51), (45, 28, 53), (45, 60, 75), (48, 14, 50), (48, 20, 52), (48, 36, 60), (48, 55, 73), (48, 64, 80), (51, 68, 85), (52, 39, 65), (54, 72, 90), (55, 48, 73), (56, 33, 65), (56, 42, 70), (57, 76, 95), (60, 11, 61), (60, 25, 65), (60, 32, 68), (60, 45, 75), (60, 63, 87), (63, 16, 65), (63, 60, 87), (64, 48, 80), (65, 72, 97), (68, 51, 85), (70, 24, 74), (72, 21, 75), (72, 30, 78), (72, 54, 90), (72, 65, 97), (75, 40, 85), (76, 57, 95), (77, 36, 85), (80, 18, 82), (80, 39, 89), (84, 13, 85), (84, 35, 91)]\n"
     ]
    }
   ],
   "source": [
    "#exercise 8\n",
    "ptriples = [(a,b,c) for a in range(1,100)for b in range(1,100) for c in range(1,100) if a**2+b**2==c**2]\n",
    "print(ptriples)"
   ]
  },
  {
   "cell_type": "code",
   "execution_count": 43,
   "metadata": {},
   "outputs": [
    {
     "name": "stdout",
     "output_type": "stream",
     "text": [
      "[-0.5773502691896258, 0.5773502691896258, 0.5773502691896258]\n"
     ]
    }
   ],
   "source": [
    "#exercise 9\n",
    "import math\n",
    "\n",
    "def normalize(vec):\n",
    "    try:\n",
    "        norm = 0\n",
    "        for i in range(0,len(vec)):\n",
    "            norm += vec[i]**2\n",
    "        norm = math.sqrt(norm)\n",
    "        for i in range(0,len(vec)):\n",
    "            vec[i] = vec[i]/norm\n",
    "        return vec\n",
    "    except:\n",
    "        print(\"Error\")\n",
    "        return 0\n",
    "\n",
    "print(normalize([-1,1,1]))"
   ]
  },
  {
   "cell_type": "code",
   "execution_count": null,
   "metadata": {
    "collapsed": true
   },
   "outputs": [],
   "source": []
  }
 ],
 "metadata": {
  "kernelspec": {
   "display_name": "Python 3",
   "language": "python",
   "name": "python3"
  },
  "language_info": {
   "codemirror_mode": {
    "name": "ipython",
    "version": 3
   },
   "file_extension": ".py",
   "mimetype": "text/x-python",
   "name": "python",
   "nbconvert_exporter": "python",
   "pygments_lexer": "ipython3",
   "version": "3.6.3"
  }
 },
 "nbformat": 4,
 "nbformat_minor": 2
}
