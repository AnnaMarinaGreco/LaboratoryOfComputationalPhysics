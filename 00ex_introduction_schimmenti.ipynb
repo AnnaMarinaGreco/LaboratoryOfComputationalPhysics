{
 "cells": [
  {
   "cell_type": "markdown",
   "metadata": {},
   "source": [
    "Exercises 00ex_introduction.ipynb"
   ]
  },
  {
   "cell_type": "code",
   "execution_count": 1,
   "metadata": {},
   "outputs": [
    {
     "name": "stdout",
     "output_type": "stream",
     "text": [
      "[1, 2, 'Mickey', 4, 5, 'Mickey', 7, 8, 'Mickey', 10, 11, 'Mickey', 13, 14, 'MickeyMouse', 16, 17, 'Mickey', 19, 20, 'Mickey', 22, 23, 'Mickey', 25, 26, 'Mickey', 28, 29, 'MickeyMouse', 31, 32, 'Mickey', 34, 35, 'Mickey', 37, 38, 'Mickey', 40, 41, 'Mickey', 43, 44, 'MickeyMouse', 46, 47, 'Mickey', 49, 50, 'Mickey', 52, 53, 'Mickey', 55, 56, 'Mickey', 58, 59, 'MickeyMouse', 61, 62, 'Mickey', 64, 65, 'Mickey', 67, 68, 'Mickey', 70, 71, 'Mickey', 73, 74, 'MickeyMouse', 76, 77, 'Mickey', 79, 80, 'Mickey', 82, 83, 'Mickey', 85, 86, 'Mickey', 88, 89, 'MickeyMouse', 91, 92, 'Mickey', 94, 95, 'Mickey', 97, 98, 'Mickey', 100]\n",
      "Mickey is leaving for Donald...\n",
      "[1, 2, 'Donald', 4, 5, 'Donald', 7, 8, 'Donald', 10, 11, 'Donald', 13, 14, 'DonaldDuck', 16, 17, 'Donald', 19, 20, 'Donald', 22, 23, 'Donald', 25, 26, 'Donald', 28, 29, 'DonaldDuck', 31, 32, 'Donald', 34, 35, 'Donald', 37, 38, 'Donald', 40, 41, 'Donald', 43, 44, 'DonaldDuck', 46, 47, 'Donald', 49, 50, 'Donald', 52, 53, 'Donald', 55, 56, 'Donald', 58, 59, 'DonaldDuck', 61, 62, 'Donald', 64, 65, 'Donald', 67, 68, 'Donald', 70, 71, 'Donald', 73, 74, 'DonaldDuck', 76, 77, 'Donald', 79, 80, 'Donald', 82, 83, 'Donald', 85, 86, 'Donald', 88, 89, 'DonaldDuck', 91, 92, 'Donald', 94, 95, 'Donald', 97, 98, 'Donald', 100]\n"
     ]
    }
   ],
   "source": [
    "#exercise 1\n",
    "mylist = []\n",
    "for i in range(1,101):\n",
    "    if i % 15 == 0:\n",
    "        #print(\"MickeyMouse\")\n",
    "        mylist.append(\"MickeyMouse\")\n",
    "    elif i % 3 == 0:\n",
    "        #print(\"Mickey\")\n",
    "        mylist.append(\"Mickey\")\n",
    "\n",
    "    else:\n",
    "        #print(i)\n",
    "        mylist.append(i)\n",
    "print(mylist)\n",
    "print(\"Mickey is leaving for Donald...\")\n",
    "mylist = [\"Donald\" if x==\"Mickey\" else x for x in mylist]\n",
    "mylist = [\"DonaldDuck\" if x==\"MickeyMouse\" else x for x in mylist]\n",
    "\n",
    "print(mylist)"
   ]
  },
  {
   "cell_type": "code",
   "execution_count": 2,
   "metadata": {},
   "outputs": [
    {
     "name": "stdout",
     "output_type": "stream",
     "text": [
      "x= 0.9864986199234402\n",
      "y= 0.37858613679953734\n",
      "Swapping...\n",
      "x= 0.37858613679953734\n",
      "y= 0.9864986199234402\n"
     ]
    }
   ],
   "source": [
    "#exercise 2\n",
    "import numpy as np\n",
    "\n",
    "x = np.random.rand()\n",
    "y = np.random.rand()\n",
    "\n",
    "print(\"x=\",x)\n",
    "print(\"y=\",y)\n",
    "\n",
    "print(\"Swapping...\")\n",
    "x,y=y,x\n",
    "print(\"x=\",x)\n",
    "print(\"y=\",y)"
   ]
  },
  {
   "cell_type": "code",
   "execution_count": 6,
   "metadata": {},
   "outputs": [
    {
     "name": "stdout",
     "output_type": "stream",
     "text": [
      "5.0990195135927845\n"
     ]
    }
   ],
   "source": [
    "#exercise 3\n",
    "import math\n",
    "\n",
    "def distance(u,v):\n",
    "    try:\n",
    "        dist = 0;\n",
    "        for i in range(0,len(u)):\n",
    "            dx = u[i]-v[i]\n",
    "            dist += dx*dx\n",
    "        return math.sqrt(dist)\n",
    "    except:\n",
    "        print(\"Error\")\n",
    "        return 0\n",
    "    \n",
    "print(distance((2,-1),(3,4)))"
   ]
  },
  {
   "cell_type": "code",
   "execution_count": 7,
   "metadata": {},
   "outputs": [
    {
     "name": "stdout",
     "output_type": "stream",
     "text": [
      "{'w': 2, 'r': 17, 'i': 14, 't': 19, 'e': 22, ' ': 41, 'a': 7, 'p': 8, 'o': 13, 'g': 1, 'm': 12, 'h': 9, 'n': 10, 's': 9, 'u': 9, 'b': 5, 'f': 10, '1': 2, '0': 2, '.': 2, 'l': 6, 'c': 3, 'k': 2, 'y': 2, 'd': 3, 'v': 2}\n"
     ]
    }
   ],
   "source": [
    "#exercise 4\n",
    "s=\"Write a program that prints the numbers from 1 to 100. \\\n",
    "But for multiples of three print Mickey instead of the number and for the multiples of five print Mouse. \\\n",
    "For numbers which are multiples of both three and five print MickeyMouse\"\n",
    "\n",
    "lows=s.lower()\n",
    "ldict = {None : None}\n",
    "del ldict[None]\n",
    "for c in lows:\n",
    "    if c in ldict:\n",
    "        ldict[c]=ldict[c]+1\n",
    "    else:\n",
    "        ldict[c]=1\n",
    "print(ldict)\n"
   ]
  },
  {
   "cell_type": "code",
   "execution_count": 8,
   "metadata": {},
   "outputs": [
    {
     "name": "stdout",
     "output_type": "stream",
     "text": [
      "{36: 3, 45: 3, 58: 1, 3: 2, 74: 1, 96: 1, 64: 1, 31: 2, 10: 1, 24: 1, 19: 1, 33: 1, 86: 1, 99: 1, 18: 1, 63: 2, 70: 3, 85: 3, 47: 1, 56: 2, 42: 2, 84: 4, 88: 1, 55: 1, 20: 3, 54: 1, 8: 1, 51: 3, 79: 1, 81: 1, 57: 1, 37: 1, 91: 3, 1: 1, 66: 2, 9: 1, 89: 2, 50: 2, 95: 1, 90: 1, 98: 1, 39: 1, 16: 1, 82: 1, 92: 1, 41: 1, 30: 1, 34: 2, 94: 1, 5: 1, 72: 1, 87: 1, 75: 1, 53: 1}\n"
     ]
    }
   ],
   "source": [
    "#exercise 5\n",
    "l = [36, 45, 58, 3, 74, 96, 64, 45, 31, 10, 24, 19, 33, 86, 99, 18, 63, 70, 85,\n",
    " 85, 63, 47, 56, 42, 70, 84, 88, 55, 20, 54, 8, 56, 51, 79, 81, 57, 37, 91,\n",
    " 1, 84, 84, 36, 66, 9, 89, 50, 42, 91, 50, 95, 90, 98, 39, 16, 82, 31, 92, 41,\n",
    " 45, 30, 66, 70, 34, 85, 94, 5, 3, 36, 72, 91, 84, 34, 87, 75, 53, 51, 20, 89, 51, 20]\n",
    "\n",
    "ldict = {None : None}\n",
    "del ldict[None]\n",
    "for c in l:\n",
    "    if c in ldict:\n",
    "        ldict[c]=ldict[c]+1\n",
    "    else:\n",
    "        ldict[c]=1\n",
    "print(ldict)"
   ]
  },
  {
   "cell_type": "code",
   "execution_count": 9,
   "metadata": {},
   "outputs": [
    {
     "name": "stdout",
     "output_type": "stream",
     "text": [
      "x= 9.697138938973819\n",
      "x^6= 831498.9572371778\n"
     ]
    }
   ],
   "source": [
    "#exercise 6\n",
    "import numpy as np\n",
    "def square(x):\n",
    "    try:\n",
    "        return x**2\n",
    "    except:\n",
    "        print(\"Error\")\n",
    "        return 0\n",
    "\n",
    "def cubic(x):\n",
    "    try:\n",
    "        return x**3\n",
    "    except:\n",
    "        print(\"Error\")\n",
    "        return 0\n",
    "x = 10*np.random.rand();\n",
    "print(\"x=\", x)\n",
    "print(\"x^6=\", cubic(square(x)))"
   ]
  },
  {
   "cell_type": "code",
   "execution_count": 10,
   "metadata": {
    "collapsed": true
   },
   "outputs": [],
   "source": [
    "#exercise 7\n",
    "cubesf = []\n",
    "for i in range(0,11):\n",
    "    cubesf.append(i**3)\n",
    "\n",
    "cubesl = [x**3 for x in range(0,11)]"
   ]
  },
  {
   "cell_type": "code",
   "execution_count": null,
   "metadata": {
    "collapsed": true
   },
   "outputs": [],
   "source": [
    "#exercise 8\n",
    "ptriples = [(a,b,c) for a in range(1,100)for b in range(1,100) for c in range(1,100) if a**2+b**2==c**2]\n",
    "print(ptriples)"
   ]
  },
  {
   "cell_type": "code",
   "execution_count": 12,
   "metadata": {},
   "outputs": [
    {
     "name": "stdout",
     "output_type": "stream",
     "text": [
      "[-0.5773502691896258, 0.5773502691896258, 0.5773502691896258]\n"
     ]
    }
   ],
   "source": [
    "#exercise 9\n",
    "import math\n",
    "\n",
    "def normalize(vec):\n",
    "    try:\n",
    "        norm = 0\n",
    "        for i in range(0,len(vec)):\n",
    "            norm += vec[i]**2\n",
    "        norm = math.sqrt(norm)\n",
    "        for i in range(0,len(vec)):\n",
    "            vec[i] = vec[i]/norm\n",
    "        return vec\n",
    "    except:\n",
    "        print(\"Error\")\n",
    "        return 0\n",
    "\n",
    "print(normalize([-1,1,1]))"
   ]
  },
  {
   "cell_type": "code",
   "execution_count": null,
   "metadata": {
    "collapsed": true
   },
   "outputs": [],
   "source": []
  }
 ],
 "metadata": {
  "kernelspec": {
   "display_name": "Python 3",
   "language": "python",
   "name": "python3"
  },
  "language_info": {
   "codemirror_mode": {
    "name": "ipython",
    "version": 3
   },
   "file_extension": ".py",
   "mimetype": "text/x-python",
   "name": "python",
   "nbconvert_exporter": "python",
   "pygments_lexer": "ipython3",
   "version": "3.6.3"
  }
 },
 "nbformat": 4,
 "nbformat_minor": 2
}
