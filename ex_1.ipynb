{
 "cells": [
  {
   "cell_type": "markdown",
   "metadata": {},
   "source": [
    "ex_1"
   ]
  },
  {
   "cell_type": "markdown",
   "metadata": {},
   "source": [
    "The MickeyMouse problem\n",
    "a) Write a program that prints the numbers from 1 to 100. But for multiples of three print Mickey instead of the number and for the multiples of five print Mouse. For numbers which are multiples of both three and five print MickeyMouse\n",
    "\n",
    "b) Put the result in a tuple and substitute Mickey with Donald and Mouse with Duck"
   ]
  },
  {
   "cell_type": "code",
   "execution_count": 23,
   "metadata": {},
   "outputs": [
    {
     "name": "stdout",
     "output_type": "stream",
     "text": [
      "1\n",
      "2\n",
      "Mickey\n",
      "4\n",
      "Mouse\n",
      "Mickey\n",
      "7\n",
      "8\n",
      "Mickey\n",
      "Mouse\n",
      "[10]\n"
     ]
    }
   ],
   "source": [
    "for i in range(1,11): \n",
    " if i % 3 ==0:\n",
    "     print (\"Mickey\")    \n",
    " elif i % 5 ==0:\n",
    "     print (\"Mouse\")    \n",
    " else:\n",
    "     print (i)"
   ]
  },
  {
   "cell_type": "code",
   "execution_count": 72,
   "metadata": {},
   "outputs": [
    {
     "name": "stdout",
     "output_type": "stream",
     "text": [
      "1\n",
      "2\n",
      "Mickey\n",
      "4\n",
      "Mouse\n",
      "Mickey\n",
      "7\n",
      "8\n",
      "Mickey\n",
      "Mouse\n",
      "[1, 2, 'Mickey', 4, 'Mouse', 'Mickey', 7, 8, 'Mickey', 'Mouse']\n",
      "[1, 2, 'Donald', 4, 'Duck', 'Donald', 7, 8, 'Donald', 'Duck']\n"
     ]
    }
   ],
   "source": [
    "a=[]\n",
    "for i in range(1,11): \n",
    " if i % 3 ==0:\n",
    "     print (\"Mickey\") \n",
    "     a.append(\"Mickey\")   \n",
    " elif i % 5 ==0:\n",
    "     print (\"Mouse\")\n",
    "     a.append(\"Mouse\")  \n",
    " else:\n",
    "     print (i)\n",
    "     a.append(i)   \n",
    "print(a)\n",
    "b=a\n",
    "for n, i in enumerate(a):\n",
    "    if i == \"Mickey\":\n",
    "     b[n]=\"Donald\"\n",
    "    elif i == \"Mouse\":\n",
    "        b[n]=\"Duck\"\n",
    "    else:\n",
    "        b[n]=a[n]\n",
    "print(b)"
   ]
  },
  {
   "cell_type": "markdown",
   "metadata": {},
   "source": [
    "2. The swap function\n",
    "\n",
    "Write a function that swap the values of two input variables x and y (whatever the type). Try to do that also without a temporary variable"
   ]
  },
  {
   "cell_type": "code",
   "execution_count": 90,
   "metadata": {},
   "outputs": [],
   "source": [
    "def my_swap(x,y):\n",
    "     x,y=y,x"
   ]
  },
  {
   "cell_type": "markdown",
   "metadata": {},
   "source": [
    "3. Computing the distance\n",
    "\n",
    "Write a function that calculates and returns the euclidean distance between two points u and v, where u and v are both 2-tuples (x,y). For example, if u=(3,0) and v=(0,4), the function should return 5"
   ]
  },
  {
   "cell_type": "code",
   "execution_count": 98,
   "metadata": {},
   "outputs": [
    {
     "data": {
      "text/plain": [
       "5.0"
      ]
     },
     "execution_count": 98,
     "metadata": {},
     "output_type": "execute_result"
    }
   ],
   "source": [
    "import math\n",
    "\n",
    "def my_distance(u,v):\n",
    "    d= math.sqrt( (u[0]-v[0])**2 + (u[1]-v[1])**2)\n",
    "    return d\n",
    "\n",
    "#prova\n",
    "a=[4,0]\n",
    "m=[0,3]\n",
    "my_distance(a,m)   "
   ]
  },
  {
   "cell_type": "markdown",
   "metadata": {},
   "source": [
    "4. Counting letters\n",
    "\n",
    "Write a program to calculate the number of times each character occurs in a given string s. Ignore differneces in capitalization"
   ]
  },
  {
   "cell_type": "code",
   "execution_count": 139,
   "metadata": {},
   "outputs": [
    {
     "name": "stdout",
     "output_type": "stream",
     "text": [
      "W 0\n",
      "r 17\n",
      "i 14\n",
      "t 19\n",
      "e 22\n",
      "  41\n",
      "a 7\n",
      "  41\n",
      "p 8\n",
      "r 17\n",
      "o 13\n",
      "g 1\n",
      "r 17\n",
      "a 7\n",
      "m 12\n",
      "  41\n",
      "t 19\n",
      "h 9\n",
      "a 7\n",
      "t 19\n",
      "  41\n",
      "p 8\n",
      "r 17\n",
      "i 14\n",
      "n 10\n",
      "t 19\n",
      "s 9\n",
      "  41\n",
      "t 19\n",
      "h 9\n"
     ]
    }
   ],
   "source": [
    "s=\"Write a program that prints the numbers from 1 to 100. \\\n",
    "But for multiples of three print Mickey instead of the number and for the multiples of five print Mouse. \\\n",
    "For numbers which are multiples of both three and five print MickeyMouse\"\n",
    "characters = [i for i in s]\n",
    "def my_count_strings(s):\n",
    "    s=s.lower()\n",
    "    for i in range(0,30): \n",
    "     count_i = s.count(characters[i])\n",
    "     print (characters[i], count_i)\n",
    "my_count_strings(s)\n"
   ]
  },
  {
   "cell_type": "code",
   "execution_count": null,
   "metadata": {
    "collapsed": true
   },
   "outputs": [],
   "source": []
  }
 ],
 "metadata": {
  "kernelspec": {
   "display_name": "Python 3",
   "language": "python",
   "name": "python3"
  },
  "language_info": {
   "codemirror_mode": {
    "name": "ipython",
    "version": 3
   },
   "file_extension": ".py",
   "mimetype": "text/x-python",
   "name": "python",
   "nbconvert_exporter": "python",
   "pygments_lexer": "ipython3",
   "version": "3.6.3"
  }
 },
 "nbformat": 4,
 "nbformat_minor": 2
}
